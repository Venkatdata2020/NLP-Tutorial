{
  "nbformat": 4,
  "nbformat_minor": 0,
  "metadata": {
    "colab": {
      "name": "Build a Text to Speech Program Using Python.ipynb",
      "provenance": [],
      "collapsed_sections": []
    },
    "kernelspec": {
      "name": "python3",
      "display_name": "Python 3"
    }
  },
  "cells": [
    {
      "cell_type": "code",
      "metadata": {
        "id": "zcOaBjgnAody",
        "colab_type": "code",
        "colab": {}
      },
      "source": [
        "from newspaper import Article\n",
        "import nltk\n",
        "\n",
        "import os"
      ],
      "execution_count": 37,
      "outputs": []
    },
    {
      "cell_type": "code",
      "metadata": {
        "id": "iBuIJq_9BaiV",
        "colab_type": "code",
        "colab": {
          "base_uri": "https://localhost:8080/",
          "height": 211
        },
        "outputId": "9b847793-e1e4-422f-86d2-c5fad4eac99c"
      },
      "source": [
        "pip install gtts"
      ],
      "execution_count": 38,
      "outputs": [
        {
          "output_type": "stream",
          "text": [
            "Requirement already satisfied: gtts in /usr/local/lib/python3.6/dist-packages (2.1.1)\n",
            "Requirement already satisfied: click in /usr/local/lib/python3.6/dist-packages (from gtts) (7.1.2)\n",
            "Requirement already satisfied: gtts-token>=1.1.3 in /usr/local/lib/python3.6/dist-packages (from gtts) (1.1.3)\n",
            "Requirement already satisfied: six in /usr/local/lib/python3.6/dist-packages (from gtts) (1.15.0)\n",
            "Requirement already satisfied: requests in /usr/local/lib/python3.6/dist-packages (from gtts) (2.23.0)\n",
            "Requirement already satisfied: beautifulsoup4 in /usr/local/lib/python3.6/dist-packages (from gtts) (4.6.3)\n",
            "Requirement already satisfied: chardet<4,>=3.0.2 in /usr/local/lib/python3.6/dist-packages (from requests->gtts) (3.0.4)\n",
            "Requirement already satisfied: urllib3!=1.25.0,!=1.25.1,<1.26,>=1.21.1 in /usr/local/lib/python3.6/dist-packages (from requests->gtts) (1.24.3)\n",
            "Requirement already satisfied: certifi>=2017.4.17 in /usr/local/lib/python3.6/dist-packages (from requests->gtts) (2020.6.20)\n",
            "Requirement already satisfied: idna<3,>=2.5 in /usr/local/lib/python3.6/dist-packages (from requests->gtts) (2.10)\n"
          ],
          "name": "stdout"
        }
      ]
    },
    {
      "cell_type": "code",
      "metadata": {
        "id": "v-TuDg4SBIrT",
        "colab_type": "code",
        "colab": {}
      },
      "source": [
        "from gtts import gTTS"
      ],
      "execution_count": 39,
      "outputs": []
    },
    {
      "cell_type": "code",
      "metadata": {
        "id": "9IRWZz19CdkU",
        "colab_type": "code",
        "colab": {}
      },
      "source": [
        "# The text that you want to convert to audio \n",
        "mytext = 'Hi Sai Manaswini. How are you doing'\n",
        "  \n",
        "# Language in which you want to convert \n",
        "language = 'en'\n",
        "  \n",
        "# Passing the text and language to the engine,  \n",
        "# here we have marked slow=False. Which tells  \n",
        "# the module that the converted audio should  \n",
        "# have a high speed \n",
        "myobj = gTTS(text=mytext, lang=language, slow=False) \n",
        "  \n",
        "# Saving the converted audio in a mp3 file named \n",
        "# welcome  \n",
        "myobj.save(\"welcome.mp3\") \n",
        "  "
      ],
      "execution_count": 40,
      "outputs": []
    },
    {
      "cell_type": "code",
      "metadata": {
        "id": "wPbthiloE2FI",
        "colab_type": "code",
        "colab": {}
      },
      "source": [
        "article = Article(\"https://hackernoon.com/future-of-python-language-bright-or-dul-uv41u3xwx\")"
      ],
      "execution_count": 41,
      "outputs": []
    },
    {
      "cell_type": "code",
      "metadata": {
        "id": "mUBTNbDtE2I3",
        "colab_type": "code",
        "colab": {}
      },
      "source": [
        "article.download()"
      ],
      "execution_count": 42,
      "outputs": []
    },
    {
      "cell_type": "code",
      "metadata": {
        "id": "aOcHs7njE2L8",
        "colab_type": "code",
        "colab": {}
      },
      "source": [
        "article.parse()"
      ],
      "execution_count": 43,
      "outputs": []
    },
    {
      "cell_type": "code",
      "metadata": {
        "id": "RpozMa5oE2Yr",
        "colab_type": "code",
        "colab": {
          "base_uri": "https://localhost:8080/",
          "height": 69
        },
        "outputId": "b20f9e42-814b-4301-8d09-0ed9ccfd3c31"
      },
      "source": [
        "nltk.download('punkt')"
      ],
      "execution_count": 44,
      "outputs": [
        {
          "output_type": "stream",
          "text": [
            "[nltk_data] Downloading package punkt to /root/nltk_data...\n",
            "[nltk_data]   Package punkt is already up-to-date!\n"
          ],
          "name": "stdout"
        },
        {
          "output_type": "execute_result",
          "data": {
            "text/plain": [
              "True"
            ]
          },
          "metadata": {
            "tags": []
          },
          "execution_count": 44
        }
      ]
    },
    {
      "cell_type": "code",
      "metadata": {
        "id": "W6Cz7XFzE2PP",
        "colab_type": "code",
        "colab": {}
      },
      "source": [
        "article.nlp()"
      ],
      "execution_count": 45,
      "outputs": []
    },
    {
      "cell_type": "code",
      "metadata": {
        "id": "ukpMUG0MCyiH",
        "colab_type": "code",
        "colab": {}
      },
      "source": [
        "mytext = article.text"
      ],
      "execution_count": 46,
      "outputs": []
    },
    {
      "cell_type": "code",
      "metadata": {
        "id": "T7L2g2v6Gewi",
        "colab_type": "code",
        "colab": {
          "base_uri": "https://localhost:8080/",
          "height": 193
        },
        "outputId": "79b9e427-b482-41f1-88bc-e675749ecbfd"
      },
      "source": [
        "print(mytext)"
      ],
      "execution_count": 47,
      "outputs": [
        {
          "output_type": "stream",
          "text": [
            "4\n",
            "\n",
            "Looks like we’re in the ether.\n",
            "\n",
            "Technology breaks sometimes. We apologize for the inconvenience, and hope to improve whatever path led you here.\n",
            "\n",
            "You can visit the homepage to find some interesting tech stories about cryptocurrency, software, blockchain, startups, futurism and more. If you’re looking to communicate with people beyond this 404 ether, you can also start writing or meet the community. Hacker Noon is reachable via Support@HackerNoon.com for any feedback, concerns or ideas.\n",
            "\n",
            "Back to the Internet!\n"
          ],
          "name": "stdout"
        }
      ]
    },
    {
      "cell_type": "code",
      "metadata": {
        "id": "tSU_6scQGg15",
        "colab_type": "code",
        "colab": {}
      },
      "source": [
        "language ='en'"
      ],
      "execution_count": 48,
      "outputs": []
    },
    {
      "cell_type": "code",
      "metadata": {
        "id": "P9TWWKbTGl8P",
        "colab_type": "code",
        "colab": {}
      },
      "source": [
        "myobj = gTTS(text=mytext, lang=language, slow=False) \n",
        "  \n",
        "# Saving the converted audio in a mp3 file named \n",
        "# welcome  \n",
        "myobj.save(\"welcome.mp3\") \n"
      ],
      "execution_count": 50,
      "outputs": []
    },
    {
      "cell_type": "code",
      "metadata": {
        "id": "7M9nfaHwGr8B",
        "colab_type": "code",
        "colab": {}
      },
      "source": [
        ""
      ],
      "execution_count": 49,
      "outputs": []
    },
    {
      "cell_type": "code",
      "metadata": {
        "id": "rlFxt_YiHOEo",
        "colab_type": "code",
        "colab": {}
      },
      "source": [
        ""
      ],
      "execution_count": 49,
      "outputs": []
    }
  ]
}