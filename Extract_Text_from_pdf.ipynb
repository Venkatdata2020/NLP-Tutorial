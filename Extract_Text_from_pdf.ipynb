{
  "nbformat": 4,
  "nbformat_minor": 0,
  "metadata": {
    "colab": {
      "name": "Extract Text from pdf.ipynb",
      "provenance": []
    },
    "kernelspec": {
      "name": "python3",
      "display_name": "Python 3"
    }
  },
  "cells": [
    {
      "cell_type": "code",
      "metadata": {
        "id": "K9uRXT6wHMSe",
        "colab_type": "code",
        "colab": {
          "base_uri": "https://localhost:8080/",
          "height": 35
        },
        "outputId": "7d8c4473-993f-4bcd-cdb5-22b408f620f0"
      },
      "source": [
        "pip install PyPDF2"
      ],
      "execution_count": 16,
      "outputs": [
        {
          "output_type": "stream",
          "text": [
            "Requirement already satisfied: PyPDF2 in /usr/local/lib/python3.6/dist-packages (1.26.0)\n"
          ],
          "name": "stdout"
        }
      ]
    },
    {
      "cell_type": "code",
      "metadata": {
        "id": "R7jlzVWFHYVn",
        "colab_type": "code",
        "colab": {}
      },
      "source": [
        "import PyPDF2 as pdf"
      ],
      "execution_count": 17,
      "outputs": []
    },
    {
      "cell_type": "code",
      "metadata": {
        "id": "H4q3w77sIGXd",
        "colab_type": "code",
        "colab": {}
      },
      "source": [
        "file = open('PDFReports.pdf','rb')"
      ],
      "execution_count": 18,
      "outputs": []
    },
    {
      "cell_type": "code",
      "metadata": {
        "id": "jVDpxlS8ISQL",
        "colab_type": "code",
        "colab": {
          "base_uri": "https://localhost:8080/",
          "height": 35
        },
        "outputId": "bcaa53e1-7c85-4cab-ffa4-607f0d211e25"
      },
      "source": [
        "file"
      ],
      "execution_count": 19,
      "outputs": [
        {
          "output_type": "execute_result",
          "data": {
            "text/plain": [
              "<_io.BufferedReader name='PDFReports.pdf'>"
            ]
          },
          "metadata": {
            "tags": []
          },
          "execution_count": 19
        }
      ]
    },
    {
      "cell_type": "code",
      "metadata": {
        "id": "3WHcY2vxIS4b",
        "colab_type": "code",
        "colab": {}
      },
      "source": [
        "pdf_reader = pdf.PdfFileReader(file)"
      ],
      "execution_count": 20,
      "outputs": []
    },
    {
      "cell_type": "code",
      "metadata": {
        "id": "uRkz6rknId98",
        "colab_type": "code",
        "colab": {
          "base_uri": "https://localhost:8080/",
          "height": 35
        },
        "outputId": "411a3f38-f18e-48cc-853e-dd1f01c22d91"
      },
      "source": [
        "pdf_reader"
      ],
      "execution_count": 21,
      "outputs": [
        {
          "output_type": "execute_result",
          "data": {
            "text/plain": [
              "<PyPDF2.pdf.PdfFileReader at 0x7ff5079a0b38>"
            ]
          },
          "metadata": {
            "tags": []
          },
          "execution_count": 21
        }
      ]
    },
    {
      "cell_type": "code",
      "metadata": {
        "id": "7HNtyq28IhI6",
        "colab_type": "code",
        "colab": {
          "base_uri": "https://localhost:8080/",
          "height": 1000
        },
        "outputId": "f7ace476-1607-40fb-a9a9-c20f86cc61fa"
      },
      "source": [
        "help(pdf_reader)"
      ],
      "execution_count": 22,
      "outputs": [
        {
          "output_type": "stream",
          "text": [
            "Help on PdfFileReader in module PyPDF2.pdf object:\n",
            "\n",
            "class PdfFileReader(builtins.object)\n",
            " |  Initializes a PdfFileReader object.  This operation can take some time, as\n",
            " |  the PDF stream's cross-reference tables are read into memory.\n",
            " |  \n",
            " |  :param stream: A File object or an object that supports the standard read\n",
            " |      and seek methods similar to a File object. Could also be a\n",
            " |      string representing a path to a PDF file.\n",
            " |  :param bool strict: Determines whether user should be warned of all\n",
            " |      problems and also causes some correctable problems to be fatal.\n",
            " |      Defaults to ``True``.\n",
            " |  :param warndest: Destination for logging warnings (defaults to\n",
            " |      ``sys.stderr``).\n",
            " |  :param bool overwriteWarnings: Determines whether to override Python's\n",
            " |      ``warnings.py`` module with a custom implementation (defaults to\n",
            " |      ``True``).\n",
            " |  \n",
            " |  Methods defined here:\n",
            " |  \n",
            " |  __init__(self, stream, strict=True, warndest=None, overwriteWarnings=True)\n",
            " |      Initialize self.  See help(type(self)) for accurate signature.\n",
            " |  \n",
            " |  cacheGetIndirectObject(self, generation, idnum)\n",
            " |  \n",
            " |  cacheIndirectObject(self, generation, idnum, obj)\n",
            " |  \n",
            " |  decrypt(self, password)\n",
            " |      When using an encrypted / secured PDF file with the PDF Standard\n",
            " |      encryption handler, this function will allow the file to be decrypted.\n",
            " |      It checks the given password against the document's user password and\n",
            " |      owner password, and then stores the resulting decryption key if either\n",
            " |      password is correct.\n",
            " |      \n",
            " |      It does not matter which password was matched.  Both passwords provide\n",
            " |      the correct decryption key that will allow the document to be used with\n",
            " |      this library.\n",
            " |      \n",
            " |      :param str password: The password to match.\n",
            " |      :return: ``0`` if the password failed, ``1`` if the password matched the user\n",
            " |          password, and ``2`` if the password matched the owner password.\n",
            " |      :rtype: int\n",
            " |      :raises NotImplementedError: if document uses an unsupported encryption\n",
            " |          method.\n",
            " |  \n",
            " |  getDestinationPageNumber(self, destination)\n",
            " |      Retrieve page number of a given Destination object\n",
            " |      \n",
            " |      :param Destination destination: The destination to get page number.\n",
            " |           Should be an instance of\n",
            " |           :class:`Destination<PyPDF2.pdf.Destination>`\n",
            " |      :return: the page number or -1 if page not found\n",
            " |      :rtype: int\n",
            " |  \n",
            " |  getDocumentInfo(self)\n",
            " |      Retrieves the PDF file's document information dictionary, if it exists.\n",
            " |      Note that some PDF files use metadata streams instead of docinfo\n",
            " |      dictionaries, and these metadata streams will not be accessed by this\n",
            " |      function.\n",
            " |      \n",
            " |      :return: the document information of this PDF file\n",
            " |      :rtype: :class:`DocumentInformation<pdf.DocumentInformation>` or ``None`` if none exists.\n",
            " |  \n",
            " |  getFields(self, tree=None, retval=None, fileobj=None)\n",
            " |      Extracts field data if this PDF contains interactive form fields.\n",
            " |      The *tree* and *retval* parameters are for recursive use.\n",
            " |      \n",
            " |      :param fileobj: A file object (usually a text file) to write\n",
            " |          a report to on all interactive form fields found.\n",
            " |      :return: A dictionary where each key is a field name, and each\n",
            " |          value is a :class:`Field<PyPDF2.generic.Field>` object. By\n",
            " |          default, the mapping name is used for keys.\n",
            " |      :rtype: dict, or ``None`` if form data could not be located.\n",
            " |  \n",
            " |  getFormTextFields(self)\n",
            " |      Retrieves form fields from the document with textual data (inputs, dropdowns)\n",
            " |  \n",
            " |  getIsEncrypted(self)\n",
            " |  \n",
            " |  getNamedDestinations(self, tree=None, retval=None)\n",
            " |      Retrieves the named destinations present in the document.\n",
            " |      \n",
            " |      :return: a dictionary which maps names to\n",
            " |          :class:`Destinations<PyPDF2.generic.Destination>`.\n",
            " |      :rtype: dict\n",
            " |  \n",
            " |  getNumPages(self)\n",
            " |      Calculates the number of pages in this PDF file.\n",
            " |      \n",
            " |      :return: number of pages\n",
            " |      :rtype: int\n",
            " |      :raises PdfReadError: if file is encrypted and restrictions prevent\n",
            " |          this action.\n",
            " |  \n",
            " |  getObject(self, indirectReference)\n",
            " |  \n",
            " |  getOutlines(self, node=None, outlines=None)\n",
            " |      Retrieves the document outline present in the document.\n",
            " |      \n",
            " |      :return: a nested list of :class:`Destinations<PyPDF2.generic.Destination>`.\n",
            " |  \n",
            " |  getPage(self, pageNumber)\n",
            " |      Retrieves a page by number from this PDF file.\n",
            " |      \n",
            " |      :param int pageNumber: The page number to retrieve\n",
            " |          (pages begin at zero)\n",
            " |      :return: a :class:`PageObject<pdf.PageObject>` instance.\n",
            " |      :rtype: :class:`PageObject<pdf.PageObject>`\n",
            " |  \n",
            " |  getPageLayout(self)\n",
            " |      Get the page layout.\n",
            " |      See :meth:`setPageLayout()<PdfFileWriter.setPageLayout>`\n",
            " |      for a description of valid layouts.\n",
            " |      \n",
            " |      :return: Page layout currently being used.\n",
            " |      :rtype: ``str``, ``None`` if not specified\n",
            " |  \n",
            " |  getPageMode(self)\n",
            " |      Get the page mode.\n",
            " |      See :meth:`setPageMode()<PdfFileWriter.setPageMode>`\n",
            " |      for a description of valid modes.\n",
            " |      \n",
            " |      :return: Page mode currently being used.\n",
            " |      :rtype: ``str``, ``None`` if not specified\n",
            " |  \n",
            " |  getPageNumber(self, page)\n",
            " |      Retrieve page number of a given PageObject\n",
            " |      \n",
            " |      :param PageObject page: The page to get page number. Should be\n",
            " |          an instance of :class:`PageObject<PyPDF2.pdf.PageObject>`\n",
            " |      :return: the page number or -1 if page not found\n",
            " |      :rtype: int\n",
            " |  \n",
            " |  getXmpMetadata(self)\n",
            " |      Retrieves XMP (Extensible Metadata Platform) data from the PDF document\n",
            " |      root.\n",
            " |      \n",
            " |      :return: a :class:`XmpInformation<xmp.XmpInformation>`\n",
            " |          instance that can be used to access XMP metadata from the document.\n",
            " |      :rtype: :class:`XmpInformation<xmp.XmpInformation>` or\n",
            " |          ``None`` if no metadata was found on the document root.\n",
            " |  \n",
            " |  read(self, stream)\n",
            " |  \n",
            " |  readNextEndLine(self, stream)\n",
            " |  \n",
            " |  readObjectHeader(self, stream)\n",
            " |  \n",
            " |  ----------------------------------------------------------------------\n",
            " |  Data descriptors defined here:\n",
            " |  \n",
            " |  __dict__\n",
            " |      dictionary for instance variables (if defined)\n",
            " |  \n",
            " |  __weakref__\n",
            " |      list of weak references to the object (if defined)\n",
            " |  \n",
            " |  documentInfo\n",
            " |  \n",
            " |  isEncrypted\n",
            " |  \n",
            " |  namedDestinations\n",
            " |  \n",
            " |  numPages\n",
            " |  \n",
            " |  outlines\n",
            " |  \n",
            " |  pageLayout\n",
            " |      Get the page layout.\n",
            " |      See :meth:`setPageLayout()<PdfFileWriter.setPageLayout>`\n",
            " |      for a description of valid layouts.\n",
            " |      \n",
            " |      :return: Page layout currently being used.\n",
            " |      :rtype: ``str``, ``None`` if not specified\n",
            " |  \n",
            " |  pageMode\n",
            " |      Get the page mode.\n",
            " |      See :meth:`setPageMode()<PdfFileWriter.setPageMode>`\n",
            " |      for a description of valid modes.\n",
            " |      \n",
            " |      :return: Page mode currently being used.\n",
            " |      :rtype: ``str``, ``None`` if not specified\n",
            " |  \n",
            " |  pages\n",
            " |  \n",
            " |  xmpMetadata\n",
            "\n"
          ],
          "name": "stdout"
        }
      ]
    },
    {
      "cell_type": "code",
      "metadata": {
        "id": "J_RgQxVLImXN",
        "colab_type": "code",
        "colab": {
          "base_uri": "https://localhost:8080/",
          "height": 35
        },
        "outputId": "13291615-2025-4f59-cfdb-21037f4ef652"
      },
      "source": [
        "pdf_reader.getIsEncrypted()"
      ],
      "execution_count": 23,
      "outputs": [
        {
          "output_type": "execute_result",
          "data": {
            "text/plain": [
              "False"
            ]
          },
          "metadata": {
            "tags": []
          },
          "execution_count": 23
        }
      ]
    },
    {
      "cell_type": "code",
      "metadata": {
        "id": "4qVuFmYiIyHu",
        "colab_type": "code",
        "colab": {
          "base_uri": "https://localhost:8080/",
          "height": 35
        },
        "outputId": "94567156-369d-490b-d798-9713a00da223"
      },
      "source": [
        "pdf_reader.getNumPages()"
      ],
      "execution_count": 24,
      "outputs": [
        {
          "output_type": "execute_result",
          "data": {
            "text/plain": [
              "11"
            ]
          },
          "metadata": {
            "tags": []
          },
          "execution_count": 24
        }
      ]
    },
    {
      "cell_type": "code",
      "metadata": {
        "id": "p0l0PU9AI3j1",
        "colab_type": "code",
        "colab": {}
      },
      "source": [
        "page1 = pdf_reader.getPage(0)"
      ],
      "execution_count": 25,
      "outputs": []
    },
    {
      "cell_type": "code",
      "metadata": {
        "id": "hKkU6OIAJAX9",
        "colab_type": "code",
        "colab": {
          "base_uri": "https://localhost:8080/",
          "height": 1000
        },
        "outputId": "af4b318f-2e76-4cb3-9925-49148f6443e3"
      },
      "source": [
        "page1"
      ],
      "execution_count": 26,
      "outputs": [
        {
          "output_type": "execute_result",
          "data": {
            "text/plain": [
              "{'/Contents': {'/Filter': '/FlateDecode'},\n",
              " '/Group': {'/CS': '/DeviceRGB', '/S': '/Transparency', '/Type': '/Group'},\n",
              " '/MediaBox': [0, 0, 612, 792],\n",
              " '/Parent': {'/Count': 10,\n",
              "  '/Kids': [IndirectObject(1, 0),\n",
              "   IndirectObject(29, 0),\n",
              "   IndirectObject(31, 0),\n",
              "   IndirectObject(72, 0),\n",
              "   IndirectObject(80, 0),\n",
              "   IndirectObject(88, 0),\n",
              "   IndirectObject(106, 0),\n",
              "   IndirectObject(115, 0),\n",
              "   IndirectObject(118, 0),\n",
              "   IndirectObject(125, 0)],\n",
              "  '/Parent': {'/Count': 11,\n",
              "   '/ITXT': '5.1.1',\n",
              "   '/Kids': [IndirectObject(28, 0), IndirectObject(139, 0)],\n",
              "   '/Type': '/Pages'},\n",
              "  '/Type': '/Pages'},\n",
              " '/Resources': {'/ExtGState': {'/GS7': {'/BM': '/Normal',\n",
              "    '/Type': '/ExtGState',\n",
              "    '/ca': 1},\n",
              "   '/GS8': {'/BM': '/Normal', '/CA': 1, '/Type': '/ExtGState'}},\n",
              "  '/Font': {'/F1': {'/BaseFont': '/ABCDEE+Calibri',\n",
              "    '/Encoding': '/WinAnsiEncoding',\n",
              "    '/FirstChar': 32,\n",
              "    '/FontDescriptor': {'/Ascent': 750,\n",
              "     '/AvgWidth': 521,\n",
              "     '/CapHeight': 750,\n",
              "     '/Descent': -250,\n",
              "     '/Flags': 32,\n",
              "     '/FontBBox': [-503, -250, 1240, 750],\n",
              "     '/FontFile2': {'/Filter': '/FlateDecode', '/Length1': 555384},\n",
              "     '/FontName': '/ABCDEE+Calibri',\n",
              "     '/FontWeight': 400,\n",
              "     '/ItalicAngle': 0,\n",
              "     '/MaxWidth': 1743,\n",
              "     '/StemV': 52,\n",
              "     '/Type': '/FontDescriptor',\n",
              "     '/XHeight': 250},\n",
              "    '/LastChar': 119,\n",
              "    '/Name': '/F1',\n",
              "    '/Subtype': '/TrueType',\n",
              "    '/Type': '/Font',\n",
              "    '/Widths': [226,\n",
              "     0,\n",
              "     0,\n",
              "     0,\n",
              "     0,\n",
              "     0,\n",
              "     0,\n",
              "     0,\n",
              "     0,\n",
              "     0,\n",
              "     0,\n",
              "     0,\n",
              "     0,\n",
              "     0,\n",
              "     0,\n",
              "     0,\n",
              "     0,\n",
              "     0,\n",
              "     507,\n",
              "     0,\n",
              "     0,\n",
              "     0,\n",
              "     0,\n",
              "     0,\n",
              "     0,\n",
              "     0,\n",
              "     0,\n",
              "     0,\n",
              "     0,\n",
              "     0,\n",
              "     0,\n",
              "     0,\n",
              "     0,\n",
              "     0,\n",
              "     0,\n",
              "     533,\n",
              "     0,\n",
              "     0,\n",
              "     0,\n",
              "     631,\n",
              "     0,\n",
              "     0,\n",
              "     0,\n",
              "     0,\n",
              "     0,\n",
              "     0,\n",
              "     0,\n",
              "     0,\n",
              "     0,\n",
              "     0,\n",
              "     0,\n",
              "     0,\n",
              "     0,\n",
              "     0,\n",
              "     0,\n",
              "     0,\n",
              "     0,\n",
              "     0,\n",
              "     0,\n",
              "     0,\n",
              "     0,\n",
              "     0,\n",
              "     0,\n",
              "     0,\n",
              "     0,\n",
              "     479,\n",
              "     0,\n",
              "     0,\n",
              "     525,\n",
              "     498,\n",
              "     0,\n",
              "     471,\n",
              "     525,\n",
              "     230,\n",
              "     0,\n",
              "     0,\n",
              "     230,\n",
              "     799,\n",
              "     525,\n",
              "     0,\n",
              "     0,\n",
              "     0,\n",
              "     349,\n",
              "     0,\n",
              "     335,\n",
              "     0,\n",
              "     0,\n",
              "     715]},\n",
              "   '/F2': {'/BaseFont': '/ABCDEE+VodafoneRg-Regular',\n",
              "    '/Encoding': '/WinAnsiEncoding',\n",
              "    '/FirstChar': 32,\n",
              "    '/FontDescriptor': {'/Ascent': 900,\n",
              "     '/AvgWidth': 387,\n",
              "     '/CapHeight': 668,\n",
              "     '/Descent': -188,\n",
              "     '/Flags': 32,\n",
              "     '/FontBBox': [-227, -188, 1018, 668],\n",
              "     '/FontFile2': {'/Filter': '/FlateDecode', '/Length1': 81876},\n",
              "     '/FontName': '/ABCDEE+VodafoneRg-Regular',\n",
              "     '/FontWeight': 400,\n",
              "     '/ItalicAngle': 0,\n",
              "     '/Leading': 28,\n",
              "     '/MaxWidth': 1245,\n",
              "     '/StemV': 38,\n",
              "     '/Type': '/FontDescriptor',\n",
              "     '/XHeight': 250},\n",
              "    '/LastChar': 122,\n",
              "    '/Name': '/F2',\n",
              "    '/Subtype': '/TrueType',\n",
              "    '/Type': '/Font',\n",
              "    '/Widths': [190,\n",
              "     188,\n",
              "     0,\n",
              "     562,\n",
              "     0,\n",
              "     703,\n",
              "     614,\n",
              "     162,\n",
              "     273,\n",
              "     274,\n",
              "     0,\n",
              "     0,\n",
              "     183,\n",
              "     277,\n",
              "     188,\n",
              "     456,\n",
              "     513,\n",
              "     513,\n",
              "     513,\n",
              "     513,\n",
              "     513,\n",
              "     513,\n",
              "     513,\n",
              "     513,\n",
              "     513,\n",
              "     513,\n",
              "     188,\n",
              "     194,\n",
              "     0,\n",
              "     0,\n",
              "     0,\n",
              "     0,\n",
              "     737,\n",
              "     540,\n",
              "     510,\n",
              "     541,\n",
              "     581,\n",
              "     488,\n",
              "     438,\n",
              "     567,\n",
              "     622,\n",
              "     230,\n",
              "     348,\n",
              "     541,\n",
              "     466,\n",
              "     714,\n",
              "     625,\n",
              "     628,\n",
              "     507,\n",
              "     0,\n",
              "     551,\n",
              "     490,\n",
              "     485,\n",
              "     615,\n",
              "     527,\n",
              "     713,\n",
              "     490,\n",
              "     516,\n",
              "     508,\n",
              "     0,\n",
              "     0,\n",
              "     0,\n",
              "     0,\n",
              "     500,\n",
              "     0,\n",
              "     447,\n",
              "     498,\n",
              "     450,\n",
              "     498,\n",
              "     483,\n",
              "     278,\n",
              "     498,\n",
              "     512,\n",
              "     205,\n",
              "     205,\n",
              "     450,\n",
              "     248,\n",
              "     787,\n",
              "     514,\n",
              "     509,\n",
              "     498,\n",
              "     501,\n",
              "     295,\n",
              "     391,\n",
              "     312,\n",
              "     511,\n",
              "     424,\n",
              "     628,\n",
              "     383,\n",
              "     453,\n",
              "     429]},\n",
              "   '/F3': {'/BaseFont': '/ABCDEE+VodafoneRg-Regular',\n",
              "    '/DescendantFonts': [IndirectObject(12, 0)],\n",
              "    '/Encoding': '/Identity-H',\n",
              "    '/Subtype': '/Type0',\n",
              "    '/ToUnicode': {'/Filter': '/FlateDecode'},\n",
              "    '/Type': '/Font'},\n",
              "   '/F4': {'/BaseFont': '/ABCDEE+VodafoneRg-Bold',\n",
              "    '/Encoding': '/WinAnsiEncoding',\n",
              "    '/FirstChar': 32,\n",
              "    '/FontDescriptor': {'/Ascent': 900,\n",
              "     '/AvgWidth': 524,\n",
              "     '/CapHeight': 667,\n",
              "     '/Descent': -193,\n",
              "     '/Flags': 32,\n",
              "     '/FontBBox': [-239, -193, 1040, 667],\n",
              "     '/FontFile2': {'/Filter': '/FlateDecode', '/Length1': 88680},\n",
              "     '/FontName': '/ABCDEE+VodafoneRg-Bold',\n",
              "     '/FontWeight': 700,\n",
              "     '/ItalicAngle': 0,\n",
              "     '/Leading': 26,\n",
              "     '/MaxWidth': 1279,\n",
              "     '/StemV': 52,\n",
              "     '/Type': '/FontDescriptor',\n",
              "     '/XHeight': 250},\n",
              "    '/LastChar': 122,\n",
              "    '/Name': '/F4',\n",
              "    '/Subtype': '/TrueType',\n",
              "    '/Type': '/Font',\n",
              "    '/Widths': [190,\n",
              "     0,\n",
              "     0,\n",
              "     0,\n",
              "     0,\n",
              "     703,\n",
              "     624,\n",
              "     0,\n",
              "     315,\n",
              "     315,\n",
              "     432,\n",
              "     513,\n",
              "     204,\n",
              "     314,\n",
              "     211,\n",
              "     516,\n",
              "     513,\n",
              "     513,\n",
              "     513,\n",
              "     513,\n",
              "     513,\n",
              "     513,\n",
              "     513,\n",
              "     513,\n",
              "     513,\n",
              "     513,\n",
              "     211,\n",
              "     0,\n",
              "     0,\n",
              "     0,\n",
              "     0,\n",
              "     0,\n",
              "     721,\n",
              "     608,\n",
              "     568,\n",
              "     571,\n",
              "     628,\n",
              "     557,\n",
              "     509,\n",
              "     608,\n",
              "     655,\n",
              "     275,\n",
              "     425,\n",
              "     589,\n",
              "     531,\n",
              "     750,\n",
              "     660,\n",
              "     672,\n",
              "     549,\n",
              "     0,\n",
              "     588,\n",
              "     521,\n",
              "     516,\n",
              "     653,\n",
              "     598,\n",
              "     759,\n",
              "     550,\n",
              "     552,\n",
              "     538,\n",
              "     0,\n",
              "     0,\n",
              "     0,\n",
              "     0,\n",
              "     0,\n",
              "     0,\n",
              "     488,\n",
              "     525,\n",
              "     463,\n",
              "     529,\n",
              "     499,\n",
              "     318,\n",
              "     526,\n",
              "     548,\n",
              "     247,\n",
              "     257,\n",
              "     500,\n",
              "     308,\n",
              "     837,\n",
              "     552,\n",
              "     528,\n",
              "     526,\n",
              "     526,\n",
              "     356,\n",
              "     461,\n",
              "     350,\n",
              "     550,\n",
              "     506,\n",
              "     681,\n",
              "     485,\n",
              "     503,\n",
              "     483]}},\n",
              "  '/ProcSet': ['/PDF', '/Text', '/ImageB', '/ImageC', '/ImageI'],\n",
              "  '/XObject': {'/Image20': {'/BitsPerComponent': 8,\n",
              "    '/ColorSpace': '/DeviceRGB',\n",
              "    '/Filter': '/FlateDecode',\n",
              "    '/Height': 39,\n",
              "    '/Interpolate': <PyPDF2.generic.BooleanObject at 0x7ff4ecbd36d8>,\n",
              "    '/SMask': {'/BitsPerComponent': 8,\n",
              "     '/ColorSpace': '/DeviceGray',\n",
              "     '/Filter': '/FlateDecode',\n",
              "     '/Height': 39,\n",
              "     '/Interpolate': <PyPDF2.generic.BooleanObject at 0x7ff4ead5fb38>,\n",
              "     '/Matte': [0, 0, 0],\n",
              "     '/Subtype': '/Image',\n",
              "     '/Type': '/XObject',\n",
              "     '/Width': 158},\n",
              "    '/Subtype': '/Image',\n",
              "    '/Type': '/XObject',\n",
              "    '/Width': 158},\n",
              "   '/Image9': {'/BitsPerComponent': 8,\n",
              "    '/ColorSpace': '/DeviceRGB',\n",
              "    '/Filter': '/DCTDecode',\n",
              "    '/Height': 435,\n",
              "    '/Interpolate': <PyPDF2.generic.BooleanObject at 0x7ff4ead5d0b8>,\n",
              "    '/SMask': {'/BitsPerComponent': 8,\n",
              "     '/ColorSpace': '/DeviceGray',\n",
              "     '/Filter': '/FlateDecode',\n",
              "     '/Height': 435,\n",
              "     '/Interpolate': <PyPDF2.generic.BooleanObject at 0x7ff4ead620b8>,\n",
              "     '/Matte': [0, 0, 0],\n",
              "     '/Subtype': '/Image',\n",
              "     '/Type': '/XObject',\n",
              "     '/Width': 1369},\n",
              "    '/Subtype': '/Image',\n",
              "    '/Type': '/XObject',\n",
              "    '/Width': 1369}}},\n",
              " '/StructParents': 3280,\n",
              " '/Tabs': '/S',\n",
              " '/Type': '/Page'}"
            ]
          },
          "metadata": {
            "tags": []
          },
          "execution_count": 26
        }
      ]
    },
    {
      "cell_type": "code",
      "metadata": {
        "id": "3RFXyxL3JBtZ",
        "colab_type": "code",
        "colab": {
          "base_uri": "https://localhost:8080/",
          "height": 157
        },
        "outputId": "27eeab7b-d356-4c14-a9f9-c0ef536cecb4"
      },
      "source": [
        "page1.extractText()"
      ],
      "execution_count": 27,
      "outputs": [
        {
          "output_type": "execute_result",
          "data": {
            "application/vnd.google.colaboratory.intrinsic+json": {
              "type": "string"
            },
            "text/plain": [
              "' \\n \\n \\nC2 General\\n \\nYOUR TOTAL REWARD STATEMENT \\nEFFECTIVE 1ST JULY 2020\\n \\n\\n \\n \\n \\n \\nCongratulations! And big thank you for your contribution, especially in these unprecedented times over the \\nlast few months. \\n \\n \\nThe world is in middle of challenging times and we see \\ntremendous possibilities to strengthen our \\ncommitment and provide solutions to our partners. Embodying the Spirits of Vodafone, we must be restless, \\n\\nchoi\\nce for Talent, Technology & Transformation. \\n \\n \\nBuilding on our several initiatives of constantly raising bar of Employee eXperience eXcellence (EXX), I am \\npleased to launch a new initiative of making your reward communication comprehensive and transparent, \\nbased on the underlying principles of market competitive & fairness. \\nYour Total Reward Statement provides \\ninformation about all the monetary and non\\n-\\nmonetary benefits applicable to you in your current role. Please \\nnote that components of the Total Reward S\\ntatement and the amounts are liable to change as and when the \\nexisting Policies & Guidelines undergo changes.\\n \\n \\n\\n-\\n21 and look forward to \\nyour continued contribution in living the \\nspirits and \\nraising the bar\\n \\nof business p\\nerformance. \\n \\n  \\n \\n \\nSurender Mehta \\n \\nDirector\\n \\n-\\n \\nHuman Resources\\n \\n_VO\\nIS\\n \\nIndia\\n \\n \\n \\n \\n'"
            ]
          },
          "metadata": {
            "tags": []
          },
          "execution_count": 27
        }
      ]
    },
    {
      "cell_type": "code",
      "metadata": {
        "id": "Mre_1N00JCO2",
        "colab_type": "code",
        "colab": {
          "base_uri": "https://localhost:8080/",
          "height": 157
        },
        "outputId": "8c04789a-3832-46b5-fedb-957d1265f5b7"
      },
      "source": [
        "page2 = pdf_reader.getPage(1)\n",
        "page2.extractText()"
      ],
      "execution_count": 28,
      "outputs": [
        {
          "output_type": "execute_result",
          "data": {
            "application/vnd.google.colaboratory.intrinsic+json": {
              "type": "string"
            },
            "text/plain": [
              "' \\n \\n \\nC2 General\\n \\nTotal Target Cash (TTC)* Structure\\n \\nEffective 1\\nst\\n \\nJuly, 2020\\n \\nName\\n: \\nVenkateswara Rao Kurra\\n \\nEmployee ID\\n: \\n11353708\\n \\nDesignation\\n: \\nDeputy Manager\\n \\nBand\\n: \\nH\\n \\n \\nINR (per month)\\n \\nINR (per annum)\\n \\nComponent (A)\\n \\n \\n \\nBasic Salary (35% of TTC)\\n \\n27,767\\n \\n333,200\\n \\nFlexible Allowanc\\ne \\n1\\n \\n39,108\\n \\n469,294\\n \\n \\nComponent (B) \\n-\\n \\nRetirals \\n2\\n \\n \\n \\nProvident Fund (Company \\nContribution)\\n \\n3,332\\n \\n39,984\\n \\n \\nTotal Fixed Pay (A+B)\\n \\n70,206\\n \\n842,478\\n \\n \\nComponent (C) \\n-\\n \\nTarget Incentive \\n3\\n \\n \\n \\nTarget Incentive is @\\n \\n13\\n% of Fixed \\nPay\\n \\n9,127\\n \\n109,522\\n \\n \\nTotal Target Cash \\n4\\n \\n(Fixed Pay + \\nIncentive)\\n \\n79,333\\n \\n952,000\\n \\n \\nFlexible Allowance Components\\n \\nComponent\\n \\nGuideline for Contribution\\n \\nHouse Rent Allowance\\n \\nUpto 50% of Basic Salary\\n \\nNational Pension Scheme\\n \\nUpto 10% of Basic Salary\\n \\nLeave Travel Allowance (Per Annum)\\n \\nUpto Rs. 1,20,000\\n \\nMeal Reimbursement (Per Annum)\\n \\n4 Options \\n-\\n \\nZero; 12,000; 19,200; 26,400\\n \\nManagement Allowance\\n \\nMinimum 25% of Annual Flexible Allowance, Balancing Factor\\n \\nCar Lease Allowance (Applicable as per Band)\\n \\nUp to 60% of Annual Flexible Allowance\\n \\n \\n1.\\n \\nFlexible All\\nowance is a basket of allowances which allows an employee to optimise taxable income by opting for above allowance(s) \\nas per guidelines.\\n \\n2\\n.\\n \\nRetirals includes Provident Fund @ 12% of Basic Salary which is company contribution, an equivalent amount is deduc\\nted as \\nemployee contribution towards Provident Fund.\\n \\n3\\n.\\n \\nTarget Incentive is inclusive of the interim bonus as payable under the statute. \\nIncentive Pay\\n-\\nout will be subject to the incentive plan \\nand framework\\n \\napplicable to your role.\\n \\n4\\n. Total Target Cash: \\n\\nincluding Fixed Pay and Target Incentive. Fixed pay includes Retiral Benefit.\\n \\n5\\n. The contribution for each flexible component is subject to cha\\nnge as per Policy Guidelines.\\n \\nGratuity:\\n \\n4.81% of\\n \\nBasic Salary. Pay\\n-\\nout as per Gratuity Act. This is in addition to the mentioned Annual TTC and does not form part of the \\nmonthly fixed payment.\\n \\nTaxation:\\n \\n \\nAll payments are subject to taxation as per the In\\ncome Tax Rules. The Company will ensure compliance to the tax rules and apply any \\namendments to the Income Tax rules when processing the payroll of the employees. The applicable tax as per Income tax rules w\\nill \\nalso apply to the Joining bonus and notice pe\\nriod reimbursement (if any)\\n.\\n \\n \\n'"
            ]
          },
          "metadata": {
            "tags": []
          },
          "execution_count": 28
        }
      ]
    },
    {
      "cell_type": "code",
      "metadata": {
        "id": "Q-chRg8LJCSj",
        "colab_type": "code",
        "colab": {}
      },
      "source": [
        "#### Append Write or Merge PDF####"
      ],
      "execution_count": 29,
      "outputs": []
    },
    {
      "cell_type": "code",
      "metadata": {
        "id": "ago_L939JCVm",
        "colab_type": "code",
        "colab": {}
      },
      "source": [
        "pdf_writer = pdf.PdfFileWriter()"
      ],
      "execution_count": 30,
      "outputs": []
    },
    {
      "cell_type": "code",
      "metadata": {
        "id": "TGt_1BBFJCZ0",
        "colab_type": "code",
        "colab": {}
      },
      "source": [
        "pdf_writer.addPage(page1)\n",
        "pdf_writer.addPage(page2)"
      ],
      "execution_count": 33,
      "outputs": []
    },
    {
      "cell_type": "code",
      "metadata": {
        "id": "VmbvNUpyJCcq",
        "colab_type": "code",
        "colab": {}
      },
      "source": [
        "output = open('Pages.pdf','wb')\n",
        "pdf_writer.write(output)\n",
        "output.close()"
      ],
      "execution_count": 34,
      "outputs": []
    },
    {
      "cell_type": "code",
      "metadata": {
        "id": "a96rUaddLEpG",
        "colab_type": "code",
        "colab": {}
      },
      "source": [
        ""
      ],
      "execution_count": null,
      "outputs": []
    },
    {
      "cell_type": "code",
      "metadata": {
        "id": "aDbNvQpeLYYI",
        "colab_type": "code",
        "colab": {}
      },
      "source": [
        ""
      ],
      "execution_count": null,
      "outputs": []
    },
    {
      "cell_type": "code",
      "metadata": {
        "id": "20k8PEHmLYkg",
        "colab_type": "code",
        "colab": {}
      },
      "source": [
        ""
      ],
      "execution_count": null,
      "outputs": []
    },
    {
      "cell_type": "code",
      "metadata": {
        "id": "XGi5i3c7LYq5",
        "colab_type": "code",
        "colab": {}
      },
      "source": [
        ""
      ],
      "execution_count": null,
      "outputs": []
    },
    {
      "cell_type": "code",
      "metadata": {
        "id": "n3Cz58FHLYxr",
        "colab_type": "code",
        "colab": {}
      },
      "source": [
        ""
      ],
      "execution_count": null,
      "outputs": []
    },
    {
      "cell_type": "code",
      "metadata": {
        "id": "jeW46Jb1LY_K",
        "colab_type": "code",
        "colab": {}
      },
      "source": [
        ""
      ],
      "execution_count": null,
      "outputs": []
    },
    {
      "cell_type": "code",
      "metadata": {
        "id": "mvil1jIiLZFN",
        "colab_type": "code",
        "colab": {}
      },
      "source": [
        ""
      ],
      "execution_count": null,
      "outputs": []
    },
    {
      "cell_type": "code",
      "metadata": {
        "id": "pePGfFyKLZSW",
        "colab_type": "code",
        "colab": {}
      },
      "source": [
        ""
      ],
      "execution_count": null,
      "outputs": []
    },
    {
      "cell_type": "code",
      "metadata": {
        "id": "Egc6yKHHLZcE",
        "colab_type": "code",
        "colab": {}
      },
      "source": [
        ""
      ],
      "execution_count": null,
      "outputs": []
    },
    {
      "cell_type": "code",
      "metadata": {
        "id": "QBqvUze7LZY0",
        "colab_type": "code",
        "colab": {}
      },
      "source": [
        ""
      ],
      "execution_count": null,
      "outputs": []
    },
    {
      "cell_type": "code",
      "metadata": {
        "id": "QsDZRakZLZDR",
        "colab_type": "code",
        "colab": {}
      },
      "source": [
        ""
      ],
      "execution_count": null,
      "outputs": []
    },
    {
      "cell_type": "code",
      "metadata": {
        "id": "K1GcCJCWLY76",
        "colab_type": "code",
        "colab": {}
      },
      "source": [
        ""
      ],
      "execution_count": null,
      "outputs": []
    },
    {
      "cell_type": "code",
      "metadata": {
        "id": "sLdEtHdWLY5O",
        "colab_type": "code",
        "colab": {}
      },
      "source": [
        ""
      ],
      "execution_count": null,
      "outputs": []
    },
    {
      "cell_type": "code",
      "metadata": {
        "id": "zA5AyagOLY3L",
        "colab_type": "code",
        "colab": {}
      },
      "source": [
        ""
      ],
      "execution_count": null,
      "outputs": []
    },
    {
      "cell_type": "code",
      "metadata": {
        "id": "0BDAC0A4LYwJ",
        "colab_type": "code",
        "colab": {}
      },
      "source": [
        ""
      ],
      "execution_count": null,
      "outputs": []
    },
    {
      "cell_type": "code",
      "metadata": {
        "id": "Et5vs5uYLYpX",
        "colab_type": "code",
        "colab": {}
      },
      "source": [
        ""
      ],
      "execution_count": null,
      "outputs": []
    },
    {
      "cell_type": "code",
      "metadata": {
        "id": "3dpNLSgvLYhr",
        "colab_type": "code",
        "colab": {}
      },
      "source": [
        ""
      ],
      "execution_count": null,
      "outputs": []
    },
    {
      "cell_type": "code",
      "metadata": {
        "id": "xzU7OgPSLYfY",
        "colab_type": "code",
        "colab": {}
      },
      "source": [
        ""
      ],
      "execution_count": null,
      "outputs": []
    },
    {
      "cell_type": "code",
      "metadata": {
        "id": "ZPNSoLHgLYdB",
        "colab_type": "code",
        "colab": {}
      },
      "source": [
        ""
      ],
      "execution_count": null,
      "outputs": []
    }
  ]
}